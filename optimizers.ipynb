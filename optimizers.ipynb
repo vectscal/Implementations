{
 "cells": [
  {
   "cell_type": "code",
   "execution_count": 368,
   "id": "494f076d",
   "metadata": {},
   "outputs": [],
   "source": [
    "import tensorflow as tf"
   ]
  },
  {
   "cell_type": "code",
   "execution_count": 369,
   "id": "f0d8e491",
   "metadata": {},
   "outputs": [],
   "source": [
    "class optimizers:\n",
    "    def __init__(self,lr=0.5, b1=0.9, b2=0.999, eps=1e-07,n_iterations=1000, method = 'Adam'):\n",
    "        self.lr=lr\n",
    "        self.b1=b1\n",
    "        self.b2=b2\n",
    "        self.eps=eps\n",
    "        self.n_iterations=n_iterations\n",
    "        self.method = method\n",
    "    def best(self):\n",
    "        x=tf.Variable([4.0,5])\n",
    "        v=0.0\n",
    "        s=0.0\n",
    "        for t in range(1,self.n_iterations):\n",
    "            with tf.GradientTape() as g:\n",
    "                f=0.1*x[0]*x[0]+2*x[1]*x[1]\n",
    "            grad=g.gradient(f, x)\n",
    "            if self.method == 'Adam':\n",
    "                v_1=self.b1*v+(1-self.b1)*grad\n",
    "                s_1=self.b2*s+(1-self.b2)*grad**2\n",
    "                vt=v_1/(1-self.b1**t)\n",
    "                st=s_1/(1-self.b2**t)\n",
    "                eva=self.lr*vt/(tf.sqrt(st)+self.eps)\n",
    "                x=tf.Variable(x-eva)\n",
    "                v,s=v_1,s_1\n",
    "            elif self.method == 'Momentum':\n",
    "                v_1=self.b1*v+grad\n",
    "                eva= self.lr*v_1\n",
    "                x=tf.Variable(x-eva)\n",
    "                v=v_1\n",
    "            elif self.method == 'Adagrad':\n",
    "                s_1=s+grad**2\n",
    "                eva=self.lr*grad/(tf.sqrt(s_1+self.eps))\n",
    "                x=tf.Variable(x-eva)\n",
    "                s=s_1\n",
    "            elif self.method == 'rms':\n",
    "                s_1=self.b2*s+(1-self.b2)*grad**2\n",
    "                eva=self.lr*grad/(tf.sqrt(s_1+self.eps))\n",
    "                x.assign_sub(eva)\n",
    "                #x=tf.Variable(x-eva)\n",
    "                s=s_1\n",
    "        return x\n",
    "    "
   ]
  },
  {
   "cell_type": "code",
   "execution_count": 373,
   "id": "244b263d",
   "metadata": {},
   "outputs": [
    {
     "data": {
      "text/plain": [
       "<tf.Variable 'Variable:0' shape=(2,) dtype=float32, numpy=array([-5.2583609e-23,  3.6768516e-23], dtype=float32)>"
      ]
     },
     "execution_count": 373,
     "metadata": {},
     "output_type": "execute_result"
    }
   ],
   "source": [
    "optimizers(method = 'Adam').best()"
   ]
  },
  {
   "cell_type": "code",
   "execution_count": null,
   "id": "5ca06234",
   "metadata": {},
   "outputs": [],
   "source": []
  }
 ],
 "metadata": {
  "kernelspec": {
   "display_name": "Python 3",
   "language": "python",
   "name": "python3"
  },
  "language_info": {
   "codemirror_mode": {
    "name": "ipython",
    "version": 3
   },
   "file_extension": ".py",
   "mimetype": "text/x-python",
   "name": "python",
   "nbconvert_exporter": "python",
   "pygments_lexer": "ipython3",
   "version": "3.8.8"
  }
 },
 "nbformat": 4,
 "nbformat_minor": 5
}
